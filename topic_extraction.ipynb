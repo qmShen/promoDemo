{
 "cells": [
  {
   "cell_type": "code",
   "execution_count": 1,
   "id": "f7d2d95d-1d2b-4748-a85f-0a243fc4959c",
   "metadata": {
    "tags": []
   },
   "outputs": [],
   "source": [
    "import pandas as pd\n",
    "import time\n",
    "import seaborn as sns\n",
    "import json\n",
    "import networkx as nx\n",
    "from collections import Counter\n",
    "import numpy as np\n",
    "import seaborn as sns"
   ]
  },
  {
   "cell_type": "markdown",
   "id": "5249cffa",
   "metadata": {},
   "source": [
    "### Get the relationship between two subspace"
   ]
  },
  {
   "cell_type": "code",
   "execution_count": 2,
   "id": "83fff70c",
   "metadata": {},
   "outputs": [],
   "source": [
    "def get_relation_type(s1, s2):\n",
    "    sbs_list1 = s1.split('_') if type(s1) is str else s1\n",
    "    sbs_list2 = s2.split('_') if type(s2) is str else s2\n",
    "    assert len(sbs_list1) == len(sbs_list2)\n",
    "    length = len(sbs_list1)\n",
    "    larger = False\n",
    "    compare_results = [2 if sbs_list1[i] == sbs_list2[i] #左右相等 \n",
    "                       else 3 if sbs_list1[i] == '*' and sbs_list2[i] != '*'  # 左边是右边的parants\n",
    "                       else 0 if sbs_list1[i] != '*' and sbs_list2[i] == '*' # 右边是左边的parants\n",
    "                       else 1 if (sbs_list1[i] != sbs_list2[i]) and (sbs_list1[i] != '*' and sbs_list2[i] != '*')\n",
    "                       else -1\n",
    "                       for i in range(0, length)]\n",
    "\n",
    "    if compare_results.count(3) == 1 and compare_results.count(2) == length-1:\n",
    "        return '>', compare_results.index(3)\n",
    "    elif compare_results.count(0) == 1 and compare_results.count(2) == length-1:\n",
    "        return '<', compare_results.index(0)\n",
    "    elif compare_results.count(2) == len(sbs_list1):\n",
    "        return 'same', None\n",
    "    elif compare_results.count(1) == 1 and compare_results.count(2) == length-1:\n",
    "        if compare_results[0] == 1:\n",
    "            return 'temporal', compare_results.index(1)\n",
    "        else:\n",
    "            return 'brothers', compare_results.index(1)\n",
    "    return None, None\n",
    "\n",
    "def community_detection(edge_list):\n",
    "    from networkx import community\n",
    "    G = nx.Graph()\n",
    "    G.add_edges_from(edge_list)\n",
    "    communities = community.greedy_modularity_communities(G)\n",
    "    \n",
    "    return [list(c) for c in communities]\n",
    "\n",
    "def subspace_extention(sub_list):\n",
    "    result_array = []\n",
    "    for (i, val) in enumerate(sub_list):\n",
    "        if val != \"*\":\n",
    "            sub_copy = sub_list[:]\n",
    "            sub_copy[i] = \"*\"\n",
    "            result_array.append((i, sub_copy))\n",
    "    return result_array\n",
    "\n",
    "def get_topic_id(sub_list):\n",
    "    if type(sub_list) is list:\n",
    "        return '_'.join(sub_list)\n",
    "    else:\n",
    "        sl = sub_list['subs_list']\n",
    "        return '_'.join(sl)"
   ]
  },
  {
   "cell_type": "markdown",
   "id": "f83a4e33",
   "metadata": {},
   "source": [
    "## Load data"
   ]
  },
  {
   "cell_type": "code",
   "execution_count": 5,
   "id": "3ada48e2",
   "metadata": {},
   "outputs": [
    {
     "name": "stdout",
     "output_type": "stream",
     "text": [
      "Promotion object:  Kobe Bryant\n",
      "measures:  ['AST' 'PTS']\n",
      "Select measure:  PTS\n",
      "Attributes:  ['year', 'age', 'team_name', 'lg_name', 'pos_name']\n"
     ]
    }
   ],
   "source": [
    "raw_df = pd.read_csv('data/NBA_raw.csv')\n",
    "name = 'Kobe Bryant'\n",
    "print('Promotion object: ', name)\n",
    "obj_df = raw_df[raw_df['name'] == name]\n",
    "\n",
    "promo_df = pd.read_csv('data/NBA_K.csv')\n",
    "\n",
    "print('measures: ', promo_df['measure'].unique())\n",
    "measure = 'PTS'\n",
    "print('Select measure: ', measure)\n",
    "\n",
    "attributes = ['year', 'age', 'team_name', 'lg_name', 'pos_name']\n",
    "print('Attributes: ', attributes)"
   ]
  },
  {
   "cell_type": "code",
   "execution_count": 6,
   "id": "62ce95c0",
   "metadata": {},
   "outputs": [
    {
     "name": "stdout",
     "output_type": "stream",
     "text": [
      "Kobe year range: 1997-2015: 18\n",
      "Kobe team: total: 1, ['Los Angeles Lakers']\n",
      "Kobe pos name: total: 1, ['SG']\n"
     ]
    }
   ],
   "source": [
    "print(\"Kobe year range: {}-{}: {}\".format(obj_df['year'].min(), obj_df['year'].max(), obj_df['year'].max() - obj_df['year'].min()))\n",
    "print(\"Kobe team: total: {}, {}\".format(len(obj_df['team_name'].unique()), obj_df['team_name'].unique()))\n",
    "print(\"Kobe pos name: total: {}, {}\".format(len(obj_df['pos_name'].unique()), obj_df['pos_name'].unique()))\n",
    "\n",
    "promo_df = promo_df[promo_df['measure'] == measure]\n",
    "promo_df['id'] = promo_df.index\n",
    "promo_df['subs_list'] = promo_df['subspace'].apply(lambda subspace : subspace.split('_'))\n",
    "promo_df.loc[:,attributes] = promo_df['subs_list'].to_list()"
   ]
  },
  {
   "cell_type": "markdown",
   "id": "34e93778",
   "metadata": {},
   "source": [
    "### Create the topic graph"
   ]
  },
  {
   "cell_type": "code",
   "execution_count": 7,
   "id": "4b888563",
   "metadata": {},
   "outputs": [],
   "source": [
    "topic_summary = {}\n",
    "topic_map = {}\n",
    "facts = [json.loads(promo_df.iloc[i].to_json()) for i in range(0, promo_df.shape[0])]\n",
    "\n",
    "for (i, node) in enumerate(facts):\n",
    "    subs_list = node['subs_list']\n",
    "    subspace = node['subspace']\n",
    "    current_topic = node['subs_list']\n",
    "    super_subspace = subspace_extention(current_topic)\n",
    "    \n",
    "    for (topic_i, topic_L) in super_subspace:\n",
    "        t_id = get_topic_id(topic_L)\n",
    "        if t_id not in topic_summary:\n",
    "            topic_summary[t_id] = {\n",
    "                'subspace': t_id,\n",
    "                'breakdown': {}\n",
    "            }\n",
    "        if topic_i not in topic_summary[t_id]['breakdown']:\n",
    "            topic_summary[t_id]['breakdown'][topic_i] = []\n",
    "        topic_summary[t_id]['breakdown'][topic_i].append(i)\n",
    "        \n",
    "\n",
    "topics = list(topic_summary.values())"
   ]
  },
  {
   "cell_type": "code",
   "execution_count": 8,
   "id": "9ec27327",
   "metadata": {},
   "outputs": [],
   "source": [
    "relations = []\n",
    "for i in range(0, len(topics)):\n",
    "    left = topics[i]\n",
    "    for j in range(i+1, len(topics)):\n",
    "        right = topics[j]\n",
    "        result = get_relation_type(left['subspace'], right['subspace'])\n",
    "        if result[0] is None:\n",
    "            continue\n",
    "        relations.append({\n",
    "            'src': i,\n",
    "            'dst': j,\n",
    "            'id': \"{}_{}\".format(left['subspace'], right['subspace']),\n",
    "            'type': result[0],\n",
    "            'ind': result[1]\n",
    "        })\n"
   ]
  },
  {
   "cell_type": "code",
   "execution_count": 9,
   "id": "01ca6d89",
   "metadata": {},
   "outputs": [],
   "source": [
    "file_name = 'topic_{}.json'.format(name.split(' ')[0])\n",
    "with open(file_name, 'w') as output_file:\n",
    "    import json\n",
    "    json.dump({'nodes': topics, 'links': relations}, output_file)"
   ]
  },
  {
   "cell_type": "markdown",
   "id": "21d8d4d4",
   "metadata": {},
   "source": [
    "## Visualize the topic graph"
   ]
  },
  {
   "cell_type": "code",
   "execution_count": 10,
   "id": "8bcff658",
   "metadata": {},
   "outputs": [
    {
     "data": {
      "application/javascript": [
       "\n",
       "require.config({\n",
       "    paths: { \n",
       "        d3: 'https://d3js.org/d3.v7.min'\n",
       "    }\n",
       "});\n",
       "\n",
       "require(['d3'], function(d3) {   \n",
       "    let width = 800, height = 500;\n",
       "    let svg = d3.select(element.get(0)).append('svg').attr('width', width).attr('height', height);\n",
       "\n",
       "    d3.json('./topic_Kobe.json', function(d){\n",
       "    }).then(data=>{\n",
       "        \n",
       "        let container = svg.append('g').attr('class', 'container')\n",
       "\n",
       "        console.log('json tg', data)\n",
       "\n",
       "        function intern(value) {\n",
       "            return value !== null && typeof value === \"object\" ? value.valueOf() : value;\n",
       "        }\n",
       "        let links = data['links']\n",
       "        let nodes = data['nodes']\n",
       "        const LS = d3.map(links, link=>link.src).map(intern);\n",
       "        const LT = d3.map(links, link=>link.dst).map(intern);\n",
       "\n",
       "        links = d3.map(links, (d, i) => ({source: LS[i], target: LT[i]}));\n",
       "        let loc = d=> d.x !=undefined ?[d.x, d.y]:[0,0]\n",
       "\n",
       "        const forceNode = d3.forceManyBody()\n",
       "        forceNode.distanceMax(300)\n",
       "        forceNode.distanceMin(2)\n",
       "        forceNode.theta(0.1)\n",
       "\n",
       "        const forceLink = d3.forceLink(links).distance(2).id(d=>d.index)\n",
       "\n",
       "        let lines = container.selectAll('line').data(links).enter().append('line')\n",
       "            .attr('x1', d=>d.source.x).attr('y1', d=>d.source.y).attr('x2', d=>d.target.x).attr('y2', d=>d.target.y)\n",
       "            .attr('stroke', 'grey').attr('width', 3)\n",
       "\n",
       "        let circleContainer = container.selectAll('.node').data(nodes).enter().append('g').attr('class', 'node')\n",
       "            .attr('transform', d=> 'translate(' + loc(d) + ')')\n",
       "\n",
       "        let maxSize = d3.max(data.nodes, node=>d3.max(Object.values(node.breakdown), b=>b.length))\n",
       "\n",
       "        console.log('maxSize', maxSize)\n",
       "        let sizeScale = d3.scaleLinear().domain([1, maxSize]).range([2, 10])\n",
       "\n",
       "        circleContainer.each(function(d){\n",
       "            let _container = d3.select(this);\n",
       "            let circle = _container.append('circle').attr('r', 8).attr('stroke', 'red').attr('fill', 'white')\n",
       "            circle.append('title').text(d.subspace)\n",
       "            let objs = []\n",
       "            for(let key in d.breakdown){\n",
       "                objs.push({breakdown: key,size: d.breakdown[key].length})\n",
       "            }\n",
       "            _container.selectAll('.breakdown').data(objs).enter().append('circle').attr('class', 'breakdown')\n",
       "                .attr('stroke', 'blue').attr('r', obj=>sizeScale(obj.size)).attr('fill', 'none')\n",
       "     \n",
       "               \n",
       "        })\n",
       "\n",
       "        let ticked = function(){\n",
       "            circleContainer.attr('transform', d=> 'translate(' + loc(d) + ')')\n",
       "            lines.attr('x1', d=>d.source.x).attr('y1', d=>d.source.y).attr('x2', d=>d.target.x).attr('y2', d=>d.target.y)\n",
       "        }\n",
       "\n",
       "        const simulation = d3.forceSimulation(nodes)\n",
       "            .force(\"link\", forceLink)\n",
       "            .force(\"charge\", forceNode.strength(-80))\n",
       "            .velocityDecay(0.4)\n",
       "            .force(\"center\",  d3.forceCenter(width / 2, height / 2))\n",
       "            .on(\"tick\", ticked);\n",
       "\n",
       "    })\n",
       "})\n"
      ],
      "text/plain": [
       "<IPython.core.display.Javascript object>"
      ]
     },
     "metadata": {},
     "output_type": "display_data"
    }
   ],
   "source": [
    "%%javascript\n",
    "\n",
    "require.config({\n",
    "    paths: { \n",
    "        d3: 'https://d3js.org/d3.v7.min'\n",
    "    }\n",
    "});\n",
    "\n",
    "require(['d3'], function(d3) {   \n",
    "    let width = 800, height = 500;\n",
    "    let svg = d3.select(element.get(0)).append('svg').attr('width', width).attr('height', height);\n",
    "\n",
    "    d3.json('./topic_Kobe.json', function(d){\n",
    "    }).then(data=>{\n",
    "        \n",
    "        let container = svg.append('g').attr('class', 'container')\n",
    "\n",
    "        console.log('json tg', data)\n",
    "\n",
    "        function intern(value) {\n",
    "            return value !== null && typeof value === \"object\" ? value.valueOf() : value;\n",
    "        }\n",
    "        let links = data['links']\n",
    "        let nodes = data['nodes']\n",
    "        const LS = d3.map(links, link=>link.src).map(intern);\n",
    "        const LT = d3.map(links, link=>link.dst).map(intern);\n",
    "\n",
    "        links = d3.map(links, (d, i) => ({source: LS[i], target: LT[i]}));\n",
    "        let loc = d=> d.x !=undefined ?[d.x, d.y]:[0,0]\n",
    "\n",
    "        const forceNode = d3.forceManyBody()\n",
    "        forceNode.distanceMax(300)\n",
    "        forceNode.distanceMin(2)\n",
    "        forceNode.theta(0.1)\n",
    "\n",
    "        const forceLink = d3.forceLink(links).distance(2).id(d=>d.index)\n",
    "\n",
    "        let lines = container.selectAll('line').data(links).enter().append('line')\n",
    "            .attr('x1', d=>d.source.x).attr('y1', d=>d.source.y).attr('x2', d=>d.target.x).attr('y2', d=>d.target.y)\n",
    "            .attr('stroke', 'grey').attr('width', 3)\n",
    "\n",
    "        let circleContainer = container.selectAll('.node').data(nodes).enter().append('g').attr('class', 'node')\n",
    "            .attr('transform', d=> 'translate(' + loc(d) + ')')\n",
    "\n",
    "        let maxSize = d3.max(data.nodes, node=>d3.max(Object.values(node.breakdown), b=>b.length))\n",
    "\n",
    "        console.log('maxSize', maxSize)\n",
    "        let sizeScale = d3.scaleLinear().domain([1, maxSize]).range([2, 10])\n",
    "\n",
    "        circleContainer.each(function(d){\n",
    "            let _container = d3.select(this);\n",
    "            let circle = _container.append('circle').attr('r', 8).attr('stroke', 'red').attr('fill', 'white')\n",
    "            circle.append('title').text(d.subspace)\n",
    "            let objs = []\n",
    "            for(let key in d.breakdown){\n",
    "                objs.push({breakdown: key,size: d.breakdown[key].length})\n",
    "            }\n",
    "            _container.selectAll('.breakdown').data(objs).enter().append('circle').attr('class', 'breakdown')\n",
    "                .attr('stroke', 'blue').attr('r', obj=>sizeScale(obj.size)).attr('fill', 'none')\n",
    "     \n",
    "               \n",
    "        })\n",
    "\n",
    "        let ticked = function(){\n",
    "            circleContainer.attr('transform', d=> 'translate(' + loc(d) + ')')\n",
    "            lines.attr('x1', d=>d.source.x).attr('y1', d=>d.source.y).attr('x2', d=>d.target.x).attr('y2', d=>d.target.y)\n",
    "        }\n",
    "\n",
    "        const simulation = d3.forceSimulation(nodes)\n",
    "            .force(\"link\", forceLink)\n",
    "            .force(\"charge\", forceNode.strength(-80))\n",
    "            .velocityDecay(0.4)\n",
    "            .force(\"center\",  d3.forceCenter(width / 2, height / 2))\n",
    "            .on(\"tick\", ticked);\n",
    "\n",
    "    })\n",
    "})"
   ]
  },
  {
   "cell_type": "markdown",
   "id": "0f091610",
   "metadata": {},
   "source": [
    "### Create fact graph"
   ]
  },
  {
   "cell_type": "code",
   "execution_count": 11,
   "id": "3f6e053b",
   "metadata": {},
   "outputs": [],
   "source": [
    "l = len(facts)\n",
    "fact_relations = []\n",
    "for i in range(0, l):\n",
    "    left = facts[i]\n",
    "    for j in range(i+1, l):\n",
    "        right = facts[j]\n",
    "        relation = get_relation_type(left['subspace'], right['subspace'])\n",
    "        if relation[0] is None:\n",
    "            continue\n",
    "\n",
    "        fact_relations.append({\n",
    "            'src': i,\n",
    "            'dst': j,\n",
    "            'id': \"{}_{}\".format(left['subspace'], right['subspace']),\n",
    "            'type': result[0],\n",
    "            'ind': result[1]\n",
    "        })\n"
   ]
  },
  {
   "cell_type": "code",
   "execution_count": 12,
   "id": "4b6bf36a",
   "metadata": {},
   "outputs": [],
   "source": [
    "file_name = 'fact_{}.json'.format(name.split(' ')[0])\n",
    "with open(file_name, 'w') as output_file:\n",
    "    import json\n",
    "    json.dump({'nodes': facts, 'links': fact_relations}, output_file)"
   ]
  },
  {
   "cell_type": "code",
   "execution_count": 13,
   "id": "bf146c7d",
   "metadata": {
    "scrolled": false
   },
   "outputs": [
    {
     "data": {
      "application/javascript": [
       "\n",
       "require.config({\n",
       "    paths: { \n",
       "        d3: 'https://d3js.org/d3.v7.min'\n",
       "    }\n",
       "});\n",
       "\n",
       "require(['d3'], function(d3) {   \n",
       "    let width = 400, height = 400;\n",
       "    let svg = d3.select(element.get(0)).append('svg').attr('width', width).attr('height', height);\n",
       "\n",
       "    d3.json('./fact_Kobe.json', function(d){\n",
       "    }).then(data=>\n",
       "    {\n",
       "        let links = data['links']\n",
       "        let nodes = data['nodes']\n",
       "        let container = svg.append('g').attr('class', 'container')\n",
       "\n",
       "\n",
       "        function intern(value) {\n",
       "            return value !== null && typeof value === \"object\" ? value.valueOf() : value;\n",
       "        }\n",
       "\n",
       "        const LS = d3.map(links, link=>link.src).map(intern);\n",
       "        const LT = d3.map(links, link=>link.dst).map(intern);\n",
       "\n",
       "        links = d3.map(links, (d, i) => ({source: LS[i], target: LT[i]}));\n",
       "        let loc = d=>{\n",
       "            return d.x !=undefined ?[d.x, d.y]:[0,0]\n",
       "        }\n",
       "\n",
       "        const forceNode = d3.forceManyBody()\n",
       "        forceNode.distanceMax(300)\n",
       "        forceNode.distanceMin(2)\n",
       "        forceNode.theta(0.1)\n",
       "\n",
       "        const forceLink = d3.forceLink(links).distance(2).id(d=>d.index)\n",
       "\n",
       "        let lines = container.selectAll('line').data(links).enter().append('line')\n",
       "            .attr('x1', d=>d.source.x).attr('y1', d=>d.source.y).attr('x2', d=>d.target.x).attr('y2', d=>d.target.y)\n",
       "            .attr('stroke', 'grey').attr('width', 3)\n",
       "\n",
       "        let circleContainer = container.selectAll('.node').data(nodes).enter().append('g').attr('class', 'node')\n",
       "            .attr('transform', d=> 'translate(' + loc(d) + ')')\n",
       "        let circles = circleContainer.append('circle').attr('fill', 'white').attr('stroke', 'red').attr('r', 5)\n",
       "        circles.append('title').text(d=>d['subspace'])\n",
       "\n",
       "        let ticked = function(){\n",
       "            circleContainer.attr('transform', d=> 'translate(' + loc(d) + ')')\n",
       "            lines.attr('x1', d=>d.source.x).attr('y1', d=>d.source.y).attr('x2', d=>d.target.x).attr('y2', d=>d.target.y)\n",
       "        }\n",
       "\n",
       "        const simulation = d3.forceSimulation(nodes)\n",
       "            .force(\"link\", forceLink)\n",
       "            .force(\"charge\", forceNode.strength(-80))\n",
       "            .velocityDecay(0.4)\n",
       "            .force(\"center\",  d3.forceCenter(width / 2, height / 2))\n",
       "            .on(\"tick\", ticked);\n",
       "\n",
       "    })\n",
       "})\n"
      ],
      "text/plain": [
       "<IPython.core.display.Javascript object>"
      ]
     },
     "metadata": {},
     "output_type": "display_data"
    }
   ],
   "source": [
    "%%javascript\n",
    "\n",
    "require.config({\n",
    "    paths: { \n",
    "        d3: 'https://d3js.org/d3.v7.min'\n",
    "    }\n",
    "});\n",
    "\n",
    "require(['d3'], function(d3) {   \n",
    "    let width = 400, height = 400;\n",
    "    let svg = d3.select(element.get(0)).append('svg').attr('width', width).attr('height', height);\n",
    "\n",
    "    d3.json('./fact_Kobe.json', function(d){\n",
    "    }).then(data=>\n",
    "    {\n",
    "        let links = data['links']\n",
    "        let nodes = data['nodes']\n",
    "        let container = svg.append('g').attr('class', 'container')\n",
    "\n",
    "\n",
    "        function intern(value) {\n",
    "            return value !== null && typeof value === \"object\" ? value.valueOf() : value;\n",
    "        }\n",
    "\n",
    "        const LS = d3.map(links, link=>link.src).map(intern);\n",
    "        const LT = d3.map(links, link=>link.dst).map(intern);\n",
    "\n",
    "        links = d3.map(links, (d, i) => ({source: LS[i], target: LT[i]}));\n",
    "        let loc = d=>{\n",
    "            return d.x !=undefined ?[d.x, d.y]:[0,0]\n",
    "        }\n",
    "\n",
    "        const forceNode = d3.forceManyBody()\n",
    "        forceNode.distanceMax(300)\n",
    "        forceNode.distanceMin(2)\n",
    "        forceNode.theta(0.1)\n",
    "\n",
    "        const forceLink = d3.forceLink(links).distance(2).id(d=>d.index)\n",
    "\n",
    "        let lines = container.selectAll('line').data(links).enter().append('line')\n",
    "            .attr('x1', d=>d.source.x).attr('y1', d=>d.source.y).attr('x2', d=>d.target.x).attr('y2', d=>d.target.y)\n",
    "            .attr('stroke', 'grey').attr('width', 3)\n",
    "\n",
    "        let circleContainer = container.selectAll('.node').data(nodes).enter().append('g').attr('class', 'node')\n",
    "            .attr('transform', d=> 'translate(' + loc(d) + ')')\n",
    "        let circles = circleContainer.append('circle').attr('fill', 'white').attr('stroke', 'red').attr('r', 5)\n",
    "        circles.append('title').text(d=>d['subspace'])\n",
    "\n",
    "        let ticked = function(){\n",
    "            circleContainer.attr('transform', d=> 'translate(' + loc(d) + ')')\n",
    "            lines.attr('x1', d=>d.source.x).attr('y1', d=>d.source.y).attr('x2', d=>d.target.x).attr('y2', d=>d.target.y)\n",
    "        }\n",
    "\n",
    "        const simulation = d3.forceSimulation(nodes)\n",
    "            .force(\"link\", forceLink)\n",
    "            .force(\"charge\", forceNode.strength(-80))\n",
    "            .velocityDecay(0.4)\n",
    "            .force(\"center\",  d3.forceCenter(width / 2, height / 2))\n",
    "            .on(\"tick\", ticked);\n",
    "\n",
    "    })\n",
    "})"
   ]
  },
  {
   "cell_type": "markdown",
   "id": "b5beceea",
   "metadata": {},
   "source": [
    "### Score\n",
    "The factors needed to be considered:\n",
    "- Fact score/meta-fact score:\n",
    " - (1) Promotiveness; 直接用mining的分数\n",
    " - <s>Impact (Meta-fact and fact should be evalulated with same fits-all approach);</s>\n",
    " - <s>Measure rank;</s>\n",
    " - <s>Fact rank;</s>\n",
    "- Relation score:\n",
    " - (2) Monotonic increasing；\n",
    " - (3) Logic connection；\n",
    "   - temporal brother: 1\n",
    "   - parents->children: 0.8\n",
    "   - brothers: 0.3\n",
    "   - others: 0\n",
    "- Story logic score:\n",
    " - (4) Trade-off between topic diversity and context uniformity\n",
    " - (5) Trade-off between coverage and overlap\n",
    " - (6) Length score"
   ]
  },
  {
   "cell_type": "markdown",
   "id": "70df3c44",
   "metadata": {},
   "source": [
    "## Score calculation"
   ]
  },
  {
   "cell_type": "code",
   "execution_count": 14,
   "id": "05981074",
   "metadata": {},
   "outputs": [],
   "source": [
    "test_story_cases = [0, 1, 2, 3, 4, 5, 6, 7, 8, 9]"
   ]
  },
  {
   "cell_type": "code",
   "execution_count": 15,
   "id": "5745ab88",
   "metadata": {},
   "outputs": [],
   "source": [
    "full_df = raw_df.copy()"
   ]
  },
  {
   "cell_type": "code",
   "execution_count": 16,
   "id": "a412fd1f",
   "metadata": {},
   "outputs": [
    {
     "data": {
      "text/html": [
       "<div>\n",
       "<style scoped>\n",
       "    .dataframe tbody tr th:only-of-type {\n",
       "        vertical-align: middle;\n",
       "    }\n",
       "\n",
       "    .dataframe tbody tr th {\n",
       "        vertical-align: top;\n",
       "    }\n",
       "\n",
       "    .dataframe thead th {\n",
       "        text-align: right;\n",
       "    }\n",
       "</style>\n",
       "<table border=\"1\" class=\"dataframe\">\n",
       "  <thead>\n",
       "    <tr style=\"text-align: right;\">\n",
       "      <th></th>\n",
       "      <th>measure</th>\n",
       "      <th>subspace</th>\n",
       "      <th>rank</th>\n",
       "      <th>target rank</th>\n",
       "      <th>total score</th>\n",
       "      <th>rank score</th>\n",
       "      <th>impact score</th>\n",
       "      <th>id</th>\n",
       "      <th>subs_list</th>\n",
       "      <th>year</th>\n",
       "      <th>age</th>\n",
       "      <th>team_name</th>\n",
       "      <th>lg_name</th>\n",
       "      <th>pos_name</th>\n",
       "    </tr>\n",
       "  </thead>\n",
       "  <tbody>\n",
       "    <tr>\n",
       "      <th>80</th>\n",
       "      <td>PTS</td>\n",
       "      <td>*_*_*_NBA_SG</td>\n",
       "      <td>1</td>\n",
       "      <td>1</td>\n",
       "      <td>-2.0</td>\n",
       "      <td>-1</td>\n",
       "      <td>-1.0</td>\n",
       "      <td>80</td>\n",
       "      <td>[*, *, *, NBA, SG]</td>\n",
       "      <td>*</td>\n",
       "      <td>*</td>\n",
       "      <td>*</td>\n",
       "      <td>NBA</td>\n",
       "      <td>SG</td>\n",
       "    </tr>\n",
       "    <tr>\n",
       "      <th>81</th>\n",
       "      <td>PTS</td>\n",
       "      <td>*_*_*_NBA_*</td>\n",
       "      <td>2</td>\n",
       "      <td>3</td>\n",
       "      <td>-3.5</td>\n",
       "      <td>-3</td>\n",
       "      <td>-0.5</td>\n",
       "      <td>81</td>\n",
       "      <td>[*, *, *, NBA, *]</td>\n",
       "      <td>*</td>\n",
       "      <td>*</td>\n",
       "      <td>*</td>\n",
       "      <td>NBA</td>\n",
       "      <td>*</td>\n",
       "    </tr>\n",
       "    <tr>\n",
       "      <th>82</th>\n",
       "      <td>PTS</td>\n",
       "      <td>2007_*_*_NBA_*</td>\n",
       "      <td>3</td>\n",
       "      <td>1</td>\n",
       "      <td>-5.0</td>\n",
       "      <td>-1</td>\n",
       "      <td>-4.0</td>\n",
       "      <td>82</td>\n",
       "      <td>[2007, *, *, NBA, *]</td>\n",
       "      <td>2007</td>\n",
       "      <td>*</td>\n",
       "      <td>*</td>\n",
       "      <td>NBA</td>\n",
       "      <td>*</td>\n",
       "    </tr>\n",
       "    <tr>\n",
       "      <th>83</th>\n",
       "      <td>PTS</td>\n",
       "      <td>2008_*_*_NBA_*</td>\n",
       "      <td>4</td>\n",
       "      <td>1</td>\n",
       "      <td>-5.0</td>\n",
       "      <td>-1</td>\n",
       "      <td>-4.0</td>\n",
       "      <td>83</td>\n",
       "      <td>[2008, *, *, NBA, *]</td>\n",
       "      <td>2008</td>\n",
       "      <td>*</td>\n",
       "      <td>*</td>\n",
       "      <td>NBA</td>\n",
       "      <td>*</td>\n",
       "    </tr>\n",
       "    <tr>\n",
       "      <th>84</th>\n",
       "      <td>PTS</td>\n",
       "      <td>2003_*_*_NBA_*</td>\n",
       "      <td>5</td>\n",
       "      <td>1</td>\n",
       "      <td>-5.0</td>\n",
       "      <td>-1</td>\n",
       "      <td>-4.0</td>\n",
       "      <td>84</td>\n",
       "      <td>[2003, *, *, NBA, *]</td>\n",
       "      <td>2003</td>\n",
       "      <td>*</td>\n",
       "      <td>*</td>\n",
       "      <td>NBA</td>\n",
       "      <td>*</td>\n",
       "    </tr>\n",
       "    <tr>\n",
       "      <th>...</th>\n",
       "      <td>...</td>\n",
       "      <td>...</td>\n",
       "      <td>...</td>\n",
       "      <td>...</td>\n",
       "      <td>...</td>\n",
       "      <td>...</td>\n",
       "      <td>...</td>\n",
       "      <td>...</td>\n",
       "      <td>...</td>\n",
       "      <td>...</td>\n",
       "      <td>...</td>\n",
       "      <td>...</td>\n",
       "      <td>...</td>\n",
       "      <td>...</td>\n",
       "    </tr>\n",
       "    <tr>\n",
       "      <th>155</th>\n",
       "      <td>PTS</td>\n",
       "      <td>2000_*_Los Angeles Lakers_NBA_SG</td>\n",
       "      <td>76</td>\n",
       "      <td>1</td>\n",
       "      <td>-257.0</td>\n",
       "      <td>-1</td>\n",
       "      <td>-256.0</td>\n",
       "      <td>155</td>\n",
       "      <td>[2000, *, Los Angeles Lakers, NBA, SG]</td>\n",
       "      <td>2000</td>\n",
       "      <td>*</td>\n",
       "      <td>Los Angeles Lakers</td>\n",
       "      <td>NBA</td>\n",
       "      <td>SG</td>\n",
       "    </tr>\n",
       "    <tr>\n",
       "      <th>156</th>\n",
       "      <td>PTS</td>\n",
       "      <td>1999_*_Los Angeles Lakers_NBA_SG</td>\n",
       "      <td>77</td>\n",
       "      <td>1</td>\n",
       "      <td>-257.0</td>\n",
       "      <td>-1</td>\n",
       "      <td>-256.0</td>\n",
       "      <td>156</td>\n",
       "      <td>[1999, *, Los Angeles Lakers, NBA, SG]</td>\n",
       "      <td>1999</td>\n",
       "      <td>*</td>\n",
       "      <td>Los Angeles Lakers</td>\n",
       "      <td>NBA</td>\n",
       "      <td>SG</td>\n",
       "    </tr>\n",
       "    <tr>\n",
       "      <th>157</th>\n",
       "      <td>PTS</td>\n",
       "      <td>2002_*_Los Angeles Lakers_NBA_SG</td>\n",
       "      <td>78</td>\n",
       "      <td>1</td>\n",
       "      <td>-257.0</td>\n",
       "      <td>-1</td>\n",
       "      <td>-256.0</td>\n",
       "      <td>157</td>\n",
       "      <td>[2002, *, Los Angeles Lakers, NBA, SG]</td>\n",
       "      <td>2002</td>\n",
       "      <td>*</td>\n",
       "      <td>Los Angeles Lakers</td>\n",
       "      <td>NBA</td>\n",
       "      <td>SG</td>\n",
       "    </tr>\n",
       "    <tr>\n",
       "      <th>158</th>\n",
       "      <td>PTS</td>\n",
       "      <td>2003_*_Los Angeles Lakers_NBA_SG</td>\n",
       "      <td>79</td>\n",
       "      <td>1</td>\n",
       "      <td>-257.0</td>\n",
       "      <td>-1</td>\n",
       "      <td>-256.0</td>\n",
       "      <td>158</td>\n",
       "      <td>[2003, *, Los Angeles Lakers, NBA, SG]</td>\n",
       "      <td>2003</td>\n",
       "      <td>*</td>\n",
       "      <td>Los Angeles Lakers</td>\n",
       "      <td>NBA</td>\n",
       "      <td>SG</td>\n",
       "    </tr>\n",
       "    <tr>\n",
       "      <th>159</th>\n",
       "      <td>PTS</td>\n",
       "      <td>2014_*_*_NBA_*</td>\n",
       "      <td>80</td>\n",
       "      <td>385</td>\n",
       "      <td>-389.0</td>\n",
       "      <td>-385</td>\n",
       "      <td>-4.0</td>\n",
       "      <td>159</td>\n",
       "      <td>[2014, *, *, NBA, *]</td>\n",
       "      <td>2014</td>\n",
       "      <td>*</td>\n",
       "      <td>*</td>\n",
       "      <td>NBA</td>\n",
       "      <td>*</td>\n",
       "    </tr>\n",
       "  </tbody>\n",
       "</table>\n",
       "<p>80 rows × 14 columns</p>\n",
       "</div>"
      ],
      "text/plain": [
       "    measure                          subspace  rank  target rank  total score  \\\n",
       "80      PTS                      *_*_*_NBA_SG     1            1         -2.0   \n",
       "81      PTS                       *_*_*_NBA_*     2            3         -3.5   \n",
       "82      PTS                    2007_*_*_NBA_*     3            1         -5.0   \n",
       "83      PTS                    2008_*_*_NBA_*     4            1         -5.0   \n",
       "84      PTS                    2003_*_*_NBA_*     5            1         -5.0   \n",
       "..      ...                               ...   ...          ...          ...   \n",
       "155     PTS  2000_*_Los Angeles Lakers_NBA_SG    76            1       -257.0   \n",
       "156     PTS  1999_*_Los Angeles Lakers_NBA_SG    77            1       -257.0   \n",
       "157     PTS  2002_*_Los Angeles Lakers_NBA_SG    78            1       -257.0   \n",
       "158     PTS  2003_*_Los Angeles Lakers_NBA_SG    79            1       -257.0   \n",
       "159     PTS                    2014_*_*_NBA_*    80          385       -389.0   \n",
       "\n",
       "     rank score  impact score   id                               subs_list  \\\n",
       "80           -1          -1.0   80                      [*, *, *, NBA, SG]   \n",
       "81           -3          -0.5   81                       [*, *, *, NBA, *]   \n",
       "82           -1          -4.0   82                    [2007, *, *, NBA, *]   \n",
       "83           -1          -4.0   83                    [2008, *, *, NBA, *]   \n",
       "84           -1          -4.0   84                    [2003, *, *, NBA, *]   \n",
       "..          ...           ...  ...                                     ...   \n",
       "155          -1        -256.0  155  [2000, *, Los Angeles Lakers, NBA, SG]   \n",
       "156          -1        -256.0  156  [1999, *, Los Angeles Lakers, NBA, SG]   \n",
       "157          -1        -256.0  157  [2002, *, Los Angeles Lakers, NBA, SG]   \n",
       "158          -1        -256.0  158  [2003, *, Los Angeles Lakers, NBA, SG]   \n",
       "159        -385          -4.0  159                    [2014, *, *, NBA, *]   \n",
       "\n",
       "     year age           team_name lg_name pos_name  \n",
       "80      *   *                   *     NBA       SG  \n",
       "81      *   *                   *     NBA        *  \n",
       "82   2007   *                   *     NBA        *  \n",
       "83   2008   *                   *     NBA        *  \n",
       "84   2003   *                   *     NBA        *  \n",
       "..    ...  ..                 ...     ...      ...  \n",
       "155  2000   *  Los Angeles Lakers     NBA       SG  \n",
       "156  1999   *  Los Angeles Lakers     NBA       SG  \n",
       "157  2002   *  Los Angeles Lakers     NBA       SG  \n",
       "158  2003   *  Los Angeles Lakers     NBA       SG  \n",
       "159  2014   *                   *     NBA        *  \n",
       "\n",
       "[80 rows x 14 columns]"
      ]
     },
     "execution_count": 16,
     "metadata": {},
     "output_type": "execute_result"
    }
   ],
   "source": [
    "promo_df"
   ]
  },
  {
   "cell_type": "code",
   "execution_count": 17,
   "id": "a12991de",
   "metadata": {},
   "outputs": [],
   "source": [
    "# promo_df['p2_score'] = [p2fact(promo_df.iloc[i]) for i in range(0, promo_df.shape[0])]"
   ]
  },
  {
   "cell_type": "markdown",
   "id": "8f697d03",
   "metadata": {},
   "source": [
    "##### prepropcess NEED promo_df"
   ]
  },
  {
   "cell_type": "code",
   "execution_count": 18,
   "id": "23936c07",
   "metadata": {},
   "outputs": [],
   "source": [
    "def get_relation_type(s1, s2):\n",
    "    sbs_list1 = s1.split('_') if type(s1) is str else s1\n",
    "    sbs_list2 = s2.split('_') if type(s2) is str else s2\n",
    "    assert len(sbs_list1) == len(sbs_list2)\n",
    "    length = len(sbs_list1)\n",
    "    larger = False\n",
    "    compare_results = [2 if sbs_list1[i] == sbs_list2[i] #左右相等\n",
    "                       else 3 if sbs_list1[i] == '*' and sbs_list2[i] != '*'  # 左边是右边的parants\n",
    "                       else 0 if sbs_list1[i] != '*' and sbs_list2[i] == '*' # 右边是左边的parants\n",
    "                       else 1 if (sbs_list1[i] != sbs_list2[i]) and (sbs_list1[i] != '*' and sbs_list2[i] != '*')\n",
    "                       else -1\n",
    "                       for i in range(0, length)]\n",
    "\n",
    "    if compare_results.count(3) == 1 and compare_results.count(2) == length-1:\n",
    "        return '>', compare_results.index(3)\n",
    "    elif compare_results.count(0) == 1 and compare_results.count(2) == length-1:\n",
    "        return '<', compare_results.index(0)\n",
    "    elif compare_results.count(2) == len(sbs_list1):\n",
    "        return 'same', None\n",
    "    elif compare_results.count(1) == 1 and compare_results.count(2) == length-1:\n",
    "        if compare_results[0] == 1:\n",
    "            return 'temporal', compare_results.index(1)\n",
    "        else:\n",
    "            return 'brothers', compare_results.index(1)\n",
    "    return None, None\n",
    "\n",
    "class StoryEvaluator:\n",
    "    def __init__(self, df=None, story_list=None):\n",
    "        self.promo_df = None\n",
    "        self.story_list = []\n",
    "        if df is not None and story_list is not None:\n",
    "            self.set_df_and_story_list(df, story_list)\n",
    "\n",
    "    def set_df_and_story_list(self, df, story_list):\n",
    "        self.promo_df = df\n",
    "        relative_scores = []\n",
    "        min_score = min(self.promo_df['total score'])\n",
    "        max_score = max(self.promo_df['total score'])\n",
    "        for i in range(0, self.promo_df.shape[0]):\n",
    "            fact = self.promo_df.iloc[i]\n",
    "            total_score = fact['total score']\n",
    "            relative_score = self.promo_df[self.promo_df['total score'] <= total_score].shape[0] / self.promo_df.shape[\n",
    "                0]\n",
    "            relative_scores.append(relative_score)\n",
    "        self.promo_df['relative_score'] = relative_scores\n",
    "        ## TODO: hard code\n",
    "        self.promo_df = self.promo_df[self.promo_df['measure'] == 'PTS']\n",
    "        self.promo_df.loc[:,'id'] = self.promo_df.index\n",
    "        self.promo_df.loc[:,'subs_list'] = self.promo_df['subspace'].apply(lambda subspace: subspace.split('_'))\n",
    "        attributes = ['year', 'age', 'team_name', 'lg_name', 'pos_name']\n",
    "        self.promo_df.loc[:,attributes] = self.promo_df['subs_list'].to_list()\n",
    "\n",
    "\n",
    "\n",
    "        self.story_list = story_list\n",
    "        self.story_facts = self.promo_df.iloc[self.story_list]\n",
    "\n",
    "    def set_story_list(self, story_list):\n",
    "        self.story_list = story_list\n",
    "        self.story_facts = self.promo_df.iloc[self.story_list]\n",
    "\n",
    "    def calc_promotiveness(self):\n",
    "        ## (1)\n",
    "        return self.story_facts['relative_score'].sum() / self.story_facts.shape[0]\n",
    "\n",
    "    def calc_tension_score(self):\n",
    "        ## (2)\n",
    "        return 0\n",
    "\n",
    "    def calc_connection_score(self):\n",
    "        # (3)\n",
    "        def relation_scoring(fact1, fact2):\n",
    "            relation_type = get_relation_type(fact1['subs_list'], fact2['subs_list'])\n",
    "            if relation_type[0] in ['temporal']:\n",
    "                return 1\n",
    "            elif relation_type[0] == 'brothers':\n",
    "                return 0.8\n",
    "            elif relation_type[0] == '>':\n",
    "                return 0.3\n",
    "            return 0\n",
    "\n",
    "        relation_score = 0\n",
    "\n",
    "        for i in range(0, len(self.story_facts) - 1):\n",
    "            relation_score += relation_scoring(self.story_facts.iloc[i], self.story_facts.iloc[i + 1])\n",
    "        return relation_score / (1 * (self.story_facts.shape[0] - 1))\n",
    "\n",
    "    def calc_uniformity(self):\n",
    "        # (4)\n",
    "        n_diff = 0\n",
    "        pre_index = -1\n",
    "        for i in range(0, len(self.story_list) - 1):\n",
    "            fact1 = self.promo_df.iloc[i]\n",
    "            fact2 = self.promo_df.iloc[i + 1]\n",
    "            (t, current_index) = get_relation_type(fact1['subs_list'], fact2['subs_list'])\n",
    "            if pre_index == -1:\n",
    "                pre_index = current_index\n",
    "            else:\n",
    "                if current_index is None:\n",
    "                    n_diff += 1\n",
    "                elif pre_index != current_index:\n",
    "                    n_diff += 1\n",
    "            pre_index = current_index\n",
    "        return n_diff / (len(self.story_list) - 1)\n",
    "\n",
    "    def calc_coverage(self):\n",
    "        # (5)\n",
    "        return self.story_facts.shape[0] / self.promo_df.shape[0]\n",
    "\n",
    "    def calc_length_score(self):\n",
    "        # (6)\n",
    "        return 0\n",
    "\n",
    "    def calc_score(self):\n",
    "        return {\n",
    "            'promotiveness': self.calc_promotiveness(),\n",
    "            'tension': self.calc_tension_score(),\n",
    "            'connection': self.calc_connection_score(),\n",
    "            'uniformity': self.calc_uniformity(),\n",
    "            'coverage': self.calc_coverage(),\n",
    "            'length': self.calc_length_score()\n",
    "        }"
   ]
  },
  {
   "cell_type": "code",
   "execution_count": 24,
   "id": "29226eab",
   "metadata": {},
   "outputs": [],
   "source": [
    "story_evaluator = StoryEvaluator(df=promo_df, story_list=test_story_cases)"
   ]
  },
  {
   "cell_type": "code",
   "execution_count": 25,
   "id": "9090828a",
   "metadata": {},
   "outputs": [
    {
     "data": {
      "text/plain": [
       "{'promotiveness': 0.9575000000000001,\n",
       " 'tension': 0,\n",
       " 'connection': 0.5888888888888889,\n",
       " 'uniformity': 0.4444444444444444,\n",
       " 'coverage': 0.125,\n",
       " 'length': 0}"
      ]
     },
     "execution_count": 25,
     "metadata": {},
     "output_type": "execute_result"
    }
   ],
   "source": [
    "story_evaluator.calc_score()"
   ]
  },
  {
   "cell_type": "code",
   "execution_count": 26,
   "id": "e0395b94",
   "metadata": {},
   "outputs": [
    {
     "data": {
      "text/plain": [
       "0"
      ]
     },
     "execution_count": 26,
     "metadata": {},
     "output_type": "execute_result"
    }
   ],
   "source": [
    "story_evaluator.calc_tension_score()"
   ]
  },
  {
   "cell_type": "code",
   "execution_count": 27,
   "id": "e4f81ac4",
   "metadata": {},
   "outputs": [
    {
     "data": {
      "text/plain": [
       "0.5888888888888889"
      ]
     },
     "execution_count": 27,
     "metadata": {},
     "output_type": "execute_result"
    }
   ],
   "source": [
    "story_evaluator.calc_connection_score()"
   ]
  },
  {
   "cell_type": "code",
   "execution_count": 28,
   "id": "ecd5bf5a",
   "metadata": {},
   "outputs": [],
   "source": [
    "relative_scores = []\n",
    "min_score = min(promo_df['total score'])\n",
    "max_score = max(promo_df['total score'])\n",
    "for i in range(0, promo_df.shape[0]):\n",
    "    fact = promo_df.iloc[i]\n",
    "    total_score = fact['total score']\n",
    "    relative_score = promo_df[promo_df['total score'] <= total_score].shape[0] / promo_df.shape[0]\n",
    "    relative_scores.append(relative_score)\n",
    "promo_df['relative_score'] = relative_scores"
   ]
  },
  {
   "cell_type": "markdown",
   "id": "fa7f6b7c",
   "metadata": {},
   "source": [
    "#### (1) fact score is"
   ]
  },
  {
   "cell_type": "code",
   "execution_count": 29,
   "id": "d96dbed7",
   "metadata": {},
   "outputs": [
    {
     "data": {
      "text/plain": [
       "0.9575000000000001"
      ]
     },
     "execution_count": 29,
     "metadata": {},
     "output_type": "execute_result"
    }
   ],
   "source": [
    "def get_promotiveness_score(df, story_list):\n",
    "    test_facts = df.iloc[story_list]\n",
    "    return test_facts['relative_score'].sum() / test_facts.shape[0]\n",
    "\n",
    "get_promotiveness_score(promo_df, test_story_cases)"
   ]
  },
  {
   "cell_type": "markdown",
   "id": "6c7df920",
   "metadata": {},
   "source": [
    "#### (2) tension increasing score"
   ]
  },
  {
   "cell_type": "code",
   "execution_count": 30,
   "id": "e47b85bc",
   "metadata": {},
   "outputs": [],
   "source": [
    "def get_tension_score():\n",
    "    return 0"
   ]
  },
  {
   "cell_type": "markdown",
   "id": "708fc689",
   "metadata": {},
   "source": [
    "#### (3) logic connection score is"
   ]
  },
  {
   "cell_type": "code",
   "execution_count": 31,
   "id": "e6211d54",
   "metadata": {
    "scrolled": true
   },
   "outputs": [
    {
     "data": {
      "text/plain": [
       "'avg logic relation score is: 0.5888888888888889'"
      ]
     },
     "execution_count": 31,
     "metadata": {},
     "output_type": "execute_result"
    }
   ],
   "source": [
    "def relation_scoring(fact1, fact2):\n",
    "    relation_type = get_relation_type(fact1['subs_list'], fact2['subs_list'])\n",
    "    if relation_type[0] in ['temporal']:\n",
    "        return 1\n",
    "    elif relation_type[0] == 'brothers':\n",
    "        return 0.8\n",
    "    elif relation_type[0] == '>':\n",
    "        return 0.3\n",
    "    return 0\n",
    "\n",
    "\n",
    "relation_score = 0\n",
    "test_facts = promo_df.iloc[test_story_cases]\n",
    "for i in range(0, len(test_facts) - 1):\n",
    "    relation_score += relation_scoring(test_facts.iloc[i], test_facts.iloc[i+1])   \n",
    "\"logic relation score is: {}\".format(relation_score)\n",
    "\"avg logic relation score is: {}\".format(relation_score / (1 * (test_facts.shape[0] - 1)))"
   ]
  },
  {
   "cell_type": "markdown",
   "id": "0b32ec64",
   "metadata": {},
   "source": [
    "#### (4) Uniformity"
   ]
  },
  {
   "cell_type": "code",
   "execution_count": 32,
   "id": "4a40ee4d",
   "metadata": {},
   "outputs": [
    {
     "name": "stdout",
     "output_type": "stream",
     "text": [
      "No of incorrenct relationship: 4\n",
      "Score of relationship: 0.4444444444444444\n"
     ]
    }
   ],
   "source": [
    "n_diff = 0\n",
    "pre_index = -1\n",
    "for i in range(0, len(test_story_cases) - 1):\n",
    "    fact1 = promo_df.iloc[i]\n",
    "    fact2 = promo_df.iloc[i+1]\n",
    "    (t, current_index) = get_relation_type(fact1['subs_list'], fact2['subs_list'])\n",
    "    if pre_index == -1:\n",
    "        pre_index = current_index\n",
    "    else:\n",
    "        if current_index is None:\n",
    "            n_diff += 1\n",
    "        elif pre_index != current_index:\n",
    "            n_diff += 1\n",
    "    pre_index = current_index\n",
    "print(\"No of incorrenct relationship: {}\".format(n_diff))   \n",
    "print(\"Score of relationship: {}\".format(n_diff /  (len(test_story_cases) - 1)))   \n"
   ]
  },
  {
   "cell_type": "markdown",
   "id": "8be3d647",
   "metadata": {},
   "source": [
    "#### (5) Coverage"
   ]
  },
  {
   "cell_type": "code",
   "execution_count": 33,
   "id": "9fce8b3f",
   "metadata": {},
   "outputs": [
    {
     "data": {
      "text/plain": [
       "'coverage score is 0.125'"
      ]
     },
     "execution_count": 33,
     "metadata": {},
     "output_type": "execute_result"
    }
   ],
   "source": [
    "\"coverage score is {}\".format(len(set(test_story_cases)) / promo_df.shape[0])"
   ]
  },
  {
   "cell_type": "markdown",
   "id": "7a0326bd",
   "metadata": {},
   "source": [
    "#### (6) Length score \n",
    "- Need distribution"
   ]
  },
  {
   "cell_type": "code",
   "execution_count": 34,
   "id": "4ede6f57",
   "metadata": {},
   "outputs": [
    {
     "name": "stdout",
     "output_type": "stream",
     "text": [
      "10\n"
     ]
    }
   ],
   "source": [
    "print(len(list(set(test_story_cases))))"
   ]
  },
  {
   "cell_type": "code",
   "execution_count": null,
   "id": "f17899d8",
   "metadata": {},
   "outputs": [],
   "source": []
  },
  {
   "cell_type": "code",
   "execution_count": null,
   "id": "8974e445",
   "metadata": {},
   "outputs": [],
   "source": []
  }
 ],
 "metadata": {
  "kernelspec": {
   "display_name": "Python 3 (ipykernel)",
   "language": "python",
   "name": "python3"
  },
  "language_info": {
   "codemirror_mode": {
    "name": "ipython",
    "version": 3
   },
   "file_extension": ".py",
   "mimetype": "text/x-python",
   "name": "python",
   "nbconvert_exporter": "python",
   "pygments_lexer": "ipython3",
   "version": "3.9.7"
  }
 },
 "nbformat": 4,
 "nbformat_minor": 5
}
